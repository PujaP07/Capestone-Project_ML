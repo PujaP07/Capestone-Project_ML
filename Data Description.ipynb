{
 "cells": [
  {
   "cell_type": "markdown",
   "metadata": {},
   "source": [
    "# Capstone Project - The Battle of Neighborhoods (Week 1) contd..."
   ]
  },
  {
   "cell_type": "markdown",
   "metadata": {},
   "source": [
    "# Data Description\n",
    "\n"
   ]
  },
  {
   "cell_type": "markdown",
   "metadata": {},
   "source": [
    "<b>New York Location Dataset</b> will be collected from web (NYU Spatial Data Repository) which is available in Json format. In Python it will be converted to CSV format.\n",
    "Data will include below columns:\n",
    "             1.\tBorough\n",
    "             2.\tNeighborhood\n",
    "             3.\tLatitude\n",
    "             4.\tLongitude\n",
    "<b>Toronto Location Dataset</b>\n",
    "Like NY location dataset Toronto dataset will be build with same columns. Dataset will be same as used in previous project for clustering and segmentation. \n",
    "Data will include below columns:\n",
    "             1.\tPostal Code\n",
    "             2.\tBorough\n",
    "             3.\tNeighborhood\n",
    "             4.\tLatitude\n",
    "             5.\tLongitude\n"
   ]
  },
  {
   "cell_type": "code",
   "execution_count": null,
   "metadata": {},
   "outputs": [],
   "source": []
  }
 ],
 "metadata": {
  "kernelspec": {
   "display_name": "Python 3",
   "language": "python",
   "name": "python3"
  },
  "language_info": {
   "codemirror_mode": {
    "name": "ipython",
    "version": 3
   },
   "file_extension": ".py",
   "mimetype": "text/x-python",
   "name": "python",
   "nbconvert_exporter": "python",
   "pygments_lexer": "ipython3",
   "version": "3.7.3"
  }
 },
 "nbformat": 4,
 "nbformat_minor": 2
}
